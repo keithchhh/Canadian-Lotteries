{
  "cells": [
    {
      "cell_type": "markdown",
      "source": [
        "**The code below scrapes data from sasklotteries.ca and builds a pandas dataframe for the prize breakdown from 2016 to 2023.** The code reads prize date data first, downloadable on many websites, in order to accurately webscrape each date."
      ],
      "metadata": {
        "id": "Z4trJ75v-ml2"
      }
    },
    {
      "cell_type": "code",
      "execution_count": null,
      "metadata": {
        "id": "lApNQ1iLYcS5"
      },
      "outputs": [],
      "source": [
        "from bs4 import BeautifulSoup\n",
        "import requests\n",
        "import pandas as pd\n",
        "import numpy as np\n",
        "import time\n",
        "import re"
      ]
    },
    {
      "cell_type": "code",
      "execution_count": null,
      "metadata": {
        "id": "lwqKcBg_XQgq"
      },
      "outputs": [],
      "source": [
        "df = pd.read_excel('/content/drive/MyDrive/A Python Learning/DailyGrand/DailyGrand.xlsx')"
      ]
    },
    {
      "cell_type": "code",
      "execution_count": null,
      "metadata": {
        "colab": {
          "base_uri": "https://localhost:8080/",
          "height": 310
        },
        "id": "QJKXp8ojaXXq",
        "outputId": "a351b0c5-66b3-409e-e8d1-95f124f64e9b"
      },
      "outputs": [
        {
          "output_type": "execute_result",
          "data": {
            "text/plain": [
              "  PRODUCT  DRAW NUMBER  DRAW DATE  PRIZE DIVISION  SEQUENCE NUMBER  \\\n",
              "0    DGRD            1 2016-10-20               0                0   \n",
              "1    DGRD            2 2016-10-24               0                0   \n",
              "2    DGRD            3 2016-10-27               0                0   \n",
              "3    DGRD            4 2016-10-31               0                0   \n",
              "4    DGRD            5 2016-11-03               0                0   \n",
              "\n",
              "   NUMBER DRAWN 1  NUMBER DRAWN 2  NUMBER DRAWN 3  NUMBER DRAWN 4  \\\n",
              "0               8              14              18              35   \n",
              "1               8               9              28              36   \n",
              "2               5              14              24              30   \n",
              "3               3              14              25              30   \n",
              "4               9              12              19              24   \n",
              "\n",
              "   NUMBER DRAWN 5  GRAND NUMBER  \n",
              "0              37             5  \n",
              "1              48             1  \n",
              "2              34             7  \n",
              "3              45             2  \n",
              "4              39             4  "
            ],
            "text/html": [
              "\n",
              "  <div id=\"df-19208709-12fe-42b6-b030-d391de7df2c5\" class=\"colab-df-container\">\n",
              "    <div>\n",
              "<style scoped>\n",
              "    .dataframe tbody tr th:only-of-type {\n",
              "        vertical-align: middle;\n",
              "    }\n",
              "\n",
              "    .dataframe tbody tr th {\n",
              "        vertical-align: top;\n",
              "    }\n",
              "\n",
              "    .dataframe thead th {\n",
              "        text-align: right;\n",
              "    }\n",
              "</style>\n",
              "<table border=\"1\" class=\"dataframe\">\n",
              "  <thead>\n",
              "    <tr style=\"text-align: right;\">\n",
              "      <th></th>\n",
              "      <th>PRODUCT</th>\n",
              "      <th>DRAW NUMBER</th>\n",
              "      <th>DRAW DATE</th>\n",
              "      <th>PRIZE DIVISION</th>\n",
              "      <th>SEQUENCE NUMBER</th>\n",
              "      <th>NUMBER DRAWN 1</th>\n",
              "      <th>NUMBER DRAWN 2</th>\n",
              "      <th>NUMBER DRAWN 3</th>\n",
              "      <th>NUMBER DRAWN 4</th>\n",
              "      <th>NUMBER DRAWN 5</th>\n",
              "      <th>GRAND NUMBER</th>\n",
              "    </tr>\n",
              "  </thead>\n",
              "  <tbody>\n",
              "    <tr>\n",
              "      <th>0</th>\n",
              "      <td>DGRD</td>\n",
              "      <td>1</td>\n",
              "      <td>2016-10-20</td>\n",
              "      <td>0</td>\n",
              "      <td>0</td>\n",
              "      <td>8</td>\n",
              "      <td>14</td>\n",
              "      <td>18</td>\n",
              "      <td>35</td>\n",
              "      <td>37</td>\n",
              "      <td>5</td>\n",
              "    </tr>\n",
              "    <tr>\n",
              "      <th>1</th>\n",
              "      <td>DGRD</td>\n",
              "      <td>2</td>\n",
              "      <td>2016-10-24</td>\n",
              "      <td>0</td>\n",
              "      <td>0</td>\n",
              "      <td>8</td>\n",
              "      <td>9</td>\n",
              "      <td>28</td>\n",
              "      <td>36</td>\n",
              "      <td>48</td>\n",
              "      <td>1</td>\n",
              "    </tr>\n",
              "    <tr>\n",
              "      <th>2</th>\n",
              "      <td>DGRD</td>\n",
              "      <td>3</td>\n",
              "      <td>2016-10-27</td>\n",
              "      <td>0</td>\n",
              "      <td>0</td>\n",
              "      <td>5</td>\n",
              "      <td>14</td>\n",
              "      <td>24</td>\n",
              "      <td>30</td>\n",
              "      <td>34</td>\n",
              "      <td>7</td>\n",
              "    </tr>\n",
              "    <tr>\n",
              "      <th>3</th>\n",
              "      <td>DGRD</td>\n",
              "      <td>4</td>\n",
              "      <td>2016-10-31</td>\n",
              "      <td>0</td>\n",
              "      <td>0</td>\n",
              "      <td>3</td>\n",
              "      <td>14</td>\n",
              "      <td>25</td>\n",
              "      <td>30</td>\n",
              "      <td>45</td>\n",
              "      <td>2</td>\n",
              "    </tr>\n",
              "    <tr>\n",
              "      <th>4</th>\n",
              "      <td>DGRD</td>\n",
              "      <td>5</td>\n",
              "      <td>2016-11-03</td>\n",
              "      <td>0</td>\n",
              "      <td>0</td>\n",
              "      <td>9</td>\n",
              "      <td>12</td>\n",
              "      <td>19</td>\n",
              "      <td>24</td>\n",
              "      <td>39</td>\n",
              "      <td>4</td>\n",
              "    </tr>\n",
              "  </tbody>\n",
              "</table>\n",
              "</div>\n",
              "    <div class=\"colab-df-buttons\">\n",
              "\n",
              "  <div class=\"colab-df-container\">\n",
              "    <button class=\"colab-df-convert\" onclick=\"convertToInteractive('df-19208709-12fe-42b6-b030-d391de7df2c5')\"\n",
              "            title=\"Convert this dataframe to an interactive table.\"\n",
              "            style=\"display:none;\">\n",
              "\n",
              "  <svg xmlns=\"http://www.w3.org/2000/svg\" height=\"24px\" viewBox=\"0 -960 960 960\">\n",
              "    <path d=\"M120-120v-720h720v720H120Zm60-500h600v-160H180v160Zm220 220h160v-160H400v160Zm0 220h160v-160H400v160ZM180-400h160v-160H180v160Zm440 0h160v-160H620v160ZM180-180h160v-160H180v160Zm440 0h160v-160H620v160Z\"/>\n",
              "  </svg>\n",
              "    </button>\n",
              "\n",
              "  <style>\n",
              "    .colab-df-container {\n",
              "      display:flex;\n",
              "      gap: 12px;\n",
              "    }\n",
              "\n",
              "    .colab-df-convert {\n",
              "      background-color: #E8F0FE;\n",
              "      border: none;\n",
              "      border-radius: 50%;\n",
              "      cursor: pointer;\n",
              "      display: none;\n",
              "      fill: #1967D2;\n",
              "      height: 32px;\n",
              "      padding: 0 0 0 0;\n",
              "      width: 32px;\n",
              "    }\n",
              "\n",
              "    .colab-df-convert:hover {\n",
              "      background-color: #E2EBFA;\n",
              "      box-shadow: 0px 1px 2px rgba(60, 64, 67, 0.3), 0px 1px 3px 1px rgba(60, 64, 67, 0.15);\n",
              "      fill: #174EA6;\n",
              "    }\n",
              "\n",
              "    .colab-df-buttons div {\n",
              "      margin-bottom: 4px;\n",
              "    }\n",
              "\n",
              "    [theme=dark] .colab-df-convert {\n",
              "      background-color: #3B4455;\n",
              "      fill: #D2E3FC;\n",
              "    }\n",
              "\n",
              "    [theme=dark] .colab-df-convert:hover {\n",
              "      background-color: #434B5C;\n",
              "      box-shadow: 0px 1px 3px 1px rgba(0, 0, 0, 0.15);\n",
              "      filter: drop-shadow(0px 1px 2px rgba(0, 0, 0, 0.3));\n",
              "      fill: #FFFFFF;\n",
              "    }\n",
              "  </style>\n",
              "\n",
              "    <script>\n",
              "      const buttonEl =\n",
              "        document.querySelector('#df-19208709-12fe-42b6-b030-d391de7df2c5 button.colab-df-convert');\n",
              "      buttonEl.style.display =\n",
              "        google.colab.kernel.accessAllowed ? 'block' : 'none';\n",
              "\n",
              "      async function convertToInteractive(key) {\n",
              "        const element = document.querySelector('#df-19208709-12fe-42b6-b030-d391de7df2c5');\n",
              "        const dataTable =\n",
              "          await google.colab.kernel.invokeFunction('convertToInteractive',\n",
              "                                                    [key], {});\n",
              "        if (!dataTable) return;\n",
              "\n",
              "        const docLinkHtml = 'Like what you see? Visit the ' +\n",
              "          '<a target=\"_blank\" href=https://colab.research.google.com/notebooks/data_table.ipynb>data table notebook</a>'\n",
              "          + ' to learn more about interactive tables.';\n",
              "        element.innerHTML = '';\n",
              "        dataTable['output_type'] = 'display_data';\n",
              "        await google.colab.output.renderOutput(dataTable, element);\n",
              "        const docLink = document.createElement('div');\n",
              "        docLink.innerHTML = docLinkHtml;\n",
              "        element.appendChild(docLink);\n",
              "      }\n",
              "    </script>\n",
              "  </div>\n",
              "\n",
              "\n",
              "<div id=\"df-a5547af8-bcc7-4b8d-a2c5-84580eae4549\">\n",
              "  <button class=\"colab-df-quickchart\" onclick=\"quickchart('df-a5547af8-bcc7-4b8d-a2c5-84580eae4549')\"\n",
              "            title=\"Suggest charts\"\n",
              "            style=\"display:none;\">\n",
              "\n",
              "<svg xmlns=\"http://www.w3.org/2000/svg\" height=\"24px\"viewBox=\"0 0 24 24\"\n",
              "     width=\"24px\">\n",
              "    <g>\n",
              "        <path d=\"M19 3H5c-1.1 0-2 .9-2 2v14c0 1.1.9 2 2 2h14c1.1 0 2-.9 2-2V5c0-1.1-.9-2-2-2zM9 17H7v-7h2v7zm4 0h-2V7h2v10zm4 0h-2v-4h2v4z\"/>\n",
              "    </g>\n",
              "</svg>\n",
              "  </button>\n",
              "\n",
              "<style>\n",
              "  .colab-df-quickchart {\n",
              "      --bg-color: #E8F0FE;\n",
              "      --fill-color: #1967D2;\n",
              "      --hover-bg-color: #E2EBFA;\n",
              "      --hover-fill-color: #174EA6;\n",
              "      --disabled-fill-color: #AAA;\n",
              "      --disabled-bg-color: #DDD;\n",
              "  }\n",
              "\n",
              "  [theme=dark] .colab-df-quickchart {\n",
              "      --bg-color: #3B4455;\n",
              "      --fill-color: #D2E3FC;\n",
              "      --hover-bg-color: #434B5C;\n",
              "      --hover-fill-color: #FFFFFF;\n",
              "      --disabled-bg-color: #3B4455;\n",
              "      --disabled-fill-color: #666;\n",
              "  }\n",
              "\n",
              "  .colab-df-quickchart {\n",
              "    background-color: var(--bg-color);\n",
              "    border: none;\n",
              "    border-radius: 50%;\n",
              "    cursor: pointer;\n",
              "    display: none;\n",
              "    fill: var(--fill-color);\n",
              "    height: 32px;\n",
              "    padding: 0;\n",
              "    width: 32px;\n",
              "  }\n",
              "\n",
              "  .colab-df-quickchart:hover {\n",
              "    background-color: var(--hover-bg-color);\n",
              "    box-shadow: 0 1px 2px rgba(60, 64, 67, 0.3), 0 1px 3px 1px rgba(60, 64, 67, 0.15);\n",
              "    fill: var(--button-hover-fill-color);\n",
              "  }\n",
              "\n",
              "  .colab-df-quickchart-complete:disabled,\n",
              "  .colab-df-quickchart-complete:disabled:hover {\n",
              "    background-color: var(--disabled-bg-color);\n",
              "    fill: var(--disabled-fill-color);\n",
              "    box-shadow: none;\n",
              "  }\n",
              "\n",
              "  .colab-df-spinner {\n",
              "    border: 2px solid var(--fill-color);\n",
              "    border-color: transparent;\n",
              "    border-bottom-color: var(--fill-color);\n",
              "    animation:\n",
              "      spin 1s steps(1) infinite;\n",
              "  }\n",
              "\n",
              "  @keyframes spin {\n",
              "    0% {\n",
              "      border-color: transparent;\n",
              "      border-bottom-color: var(--fill-color);\n",
              "      border-left-color: var(--fill-color);\n",
              "    }\n",
              "    20% {\n",
              "      border-color: transparent;\n",
              "      border-left-color: var(--fill-color);\n",
              "      border-top-color: var(--fill-color);\n",
              "    }\n",
              "    30% {\n",
              "      border-color: transparent;\n",
              "      border-left-color: var(--fill-color);\n",
              "      border-top-color: var(--fill-color);\n",
              "      border-right-color: var(--fill-color);\n",
              "    }\n",
              "    40% {\n",
              "      border-color: transparent;\n",
              "      border-right-color: var(--fill-color);\n",
              "      border-top-color: var(--fill-color);\n",
              "    }\n",
              "    60% {\n",
              "      border-color: transparent;\n",
              "      border-right-color: var(--fill-color);\n",
              "    }\n",
              "    80% {\n",
              "      border-color: transparent;\n",
              "      border-right-color: var(--fill-color);\n",
              "      border-bottom-color: var(--fill-color);\n",
              "    }\n",
              "    90% {\n",
              "      border-color: transparent;\n",
              "      border-bottom-color: var(--fill-color);\n",
              "    }\n",
              "  }\n",
              "</style>\n",
              "\n",
              "  <script>\n",
              "    async function quickchart(key) {\n",
              "      const quickchartButtonEl =\n",
              "        document.querySelector('#' + key + ' button');\n",
              "      quickchartButtonEl.disabled = true;  // To prevent multiple clicks.\n",
              "      quickchartButtonEl.classList.add('colab-df-spinner');\n",
              "      try {\n",
              "        const charts = await google.colab.kernel.invokeFunction(\n",
              "            'suggestCharts', [key], {});\n",
              "      } catch (error) {\n",
              "        console.error('Error during call to suggestCharts:', error);\n",
              "      }\n",
              "      quickchartButtonEl.classList.remove('colab-df-spinner');\n",
              "      quickchartButtonEl.classList.add('colab-df-quickchart-complete');\n",
              "    }\n",
              "    (() => {\n",
              "      let quickchartButtonEl =\n",
              "        document.querySelector('#df-a5547af8-bcc7-4b8d-a2c5-84580eae4549 button');\n",
              "      quickchartButtonEl.style.display =\n",
              "        google.colab.kernel.accessAllowed ? 'block' : 'none';\n",
              "    })();\n",
              "  </script>\n",
              "</div>\n",
              "\n",
              "    </div>\n",
              "  </div>\n"
            ]
          },
          "metadata": {},
          "execution_count": 4
        }
      ],
      "source": [
        "df.head()"
      ]
    },
    {
      "cell_type": "code",
      "execution_count": null,
      "metadata": {
        "id": "npTgqnISazNo"
      },
      "outputs": [],
      "source": [
        "df['Date'] = df['DRAW DATE'].dt.strftime('%Y-%m-%d')"
      ]
    },
    {
      "cell_type": "code",
      "execution_count": null,
      "metadata": {
        "colab": {
          "base_uri": "https://localhost:8080/"
        },
        "id": "AmaTsEh1asHB",
        "outputId": "34f8cfdb-936b-45c9-d411-47276e6ab6e7"
      },
      "outputs": [
        {
          "output_type": "stream",
          "name": "stdout",
          "text": [
            "['2016-10-20', '2016-10-24', '2016-10-27', '2016-10-31', '2016-11-03', '2016-11-07', '2016-11-10', '2016-11-14', '2016-11-17', '2016-11-21', '2016-11-24', '2016-11-28', '2016-12-01', '2016-12-05', '2016-12-08', '2016-12-12', '2016-12-15', '2016-12-19', '2016-12-22', '2016-12-26', '2016-12-29', '2017-01-02', '2017-01-05', '2017-01-09', '2017-01-12', '2017-01-16', '2017-01-19', '2017-01-23', '2017-01-26', '2017-01-30', '2017-02-02', '2017-02-06', '2017-02-09', '2017-02-13', '2017-02-16', '2017-02-20', '2017-02-23', '2017-02-27', '2017-03-02', '2017-03-06', '2017-03-09', '2017-03-13', '2017-03-16', '2017-03-20', '2017-03-23', '2017-03-27', '2017-03-30', '2017-04-03', '2017-04-06', '2017-04-10', '2017-04-13', '2017-04-17', '2017-04-20', '2017-04-24', '2017-04-27', '2017-05-01', '2017-05-04', '2017-05-08', '2017-05-11', '2017-05-15', '2017-05-18', '2017-05-22', '2017-05-25', '2017-05-29', '2017-06-01', '2017-06-05', '2017-06-05', '2017-06-05', '2017-06-05', '2017-06-05', '2017-06-05', '2017-06-08', '2017-06-08', '2017-06-08', '2017-06-08', '2017-06-08', '2017-06-08', '2017-06-12', '2017-06-15', '2017-06-19', '2017-06-22', '2017-06-26', '2017-06-29', '2017-07-03', '2017-07-06', '2017-07-10', '2017-07-13', '2017-07-17', '2017-07-20', '2017-07-24', '2017-07-27', '2017-07-31', '2017-08-03', '2017-08-07', '2017-08-10', '2017-08-14', '2017-08-17', '2017-08-21', '2017-08-24', '2017-08-28', '2017-08-31', '2017-09-04', '2017-09-07', '2017-09-11', '2017-09-14', '2017-09-18', '2017-09-21', '2017-09-25', '2017-09-28', '2017-10-02', '2017-10-05', '2017-10-09', '2017-10-12', '2017-10-16', '2017-10-16', '2017-10-16', '2017-10-16', '2017-10-16', '2017-10-16', '2017-10-19', '2017-10-19', '2017-10-19', '2017-10-19', '2017-10-19', '2017-10-19', '2017-10-23', '2017-10-26', '2017-10-30', '2017-11-02', '2017-11-06', '2017-11-09', '2017-11-13', '2017-11-16', '2017-11-20', '2017-11-23', '2017-11-27', '2017-11-30', '2017-12-04', '2017-12-07', '2017-12-11', '2017-12-14', '2017-12-18', '2017-12-21', '2017-12-25', '2017-12-28', '2018-01-01', '2018-01-04', '2018-01-08', '2018-01-11', '2018-01-15', '2018-01-18', '2018-01-22', '2018-01-25', '2018-01-29', '2018-02-01', '2018-02-05', '2018-02-08', '2018-02-12', '2018-02-15', '2018-02-19', '2018-02-22', '2018-02-26', '2018-03-01', '2018-03-05', '2018-03-08', '2018-03-12', '2018-03-15', '2018-03-19', '2018-03-22', '2018-03-26', '2018-03-29', '2018-04-02', '2018-04-05', '2018-04-09', '2018-04-12', '2018-04-16', '2018-04-19', '2018-04-23', '2018-04-26', '2018-04-30', '2018-05-03', '2018-05-07', '2018-05-10', '2018-05-10', '2018-05-10', '2018-05-10', '2018-05-10', '2018-05-10', '2018-05-10', '2018-05-10', '2018-05-10', '2018-05-10', '2018-05-10', '2018-05-14', '2018-05-14', '2018-05-14', '2018-05-14', '2018-05-14', '2018-05-14', '2018-05-14', '2018-05-14', '2018-05-14', '2018-05-14', '2018-05-14', '2018-05-17', '2018-05-21', '2018-05-24', '2018-05-28', '2018-05-31', '2018-06-04', '2018-06-07', '2018-06-11', '2018-06-14', '2018-06-18', '2018-06-21', '2018-06-25', '2018-06-28', '2018-07-02', '2018-07-05', '2018-07-09', '2018-07-12', '2018-07-16', '2018-07-19', '2018-07-23', '2018-07-26', '2018-07-30', '2018-08-02', '2018-08-06', '2018-08-09', '2018-08-13', '2018-08-16', '2018-08-20', '2018-08-23', '2018-08-27', '2018-08-30', '2018-09-03', '2018-09-06', '2018-09-10', '2018-09-13', '2018-09-17', '2018-09-17', '2018-09-17', '2018-09-17', '2018-09-17', '2018-09-17', '2018-09-20', '2018-09-20', '2018-09-20', '2018-09-20', '2018-09-20', '2018-09-20', '2018-09-24', '2018-09-27', '2018-10-01', '2018-10-04', '2018-10-08', '2018-10-11', '2018-10-15', '2018-10-18', '2018-10-22', '2018-10-25', '2018-10-29', '2018-11-01', '2018-11-05', '2018-11-08', '2018-11-12', '2018-11-15', '2018-11-19', '2018-11-22', '2018-11-26', '2018-11-29', '2018-12-03', '2018-12-06', '2018-12-06', '2018-12-06', '2018-12-06', '2018-12-06', '2018-12-06', '2018-12-10', '2018-12-10', '2018-12-10', '2018-12-10', '2018-12-10', '2018-12-10', '2018-12-13', '2018-12-17', '2018-12-20', '2018-12-24', '2018-12-27', '2018-12-31', '2019-01-03', '2019-01-07', '2019-01-10', '2019-01-14', '2019-01-17', '2019-01-21', '2019-01-24', '2019-01-28', '2019-01-31', '2019-02-04', '2019-02-07', '2019-02-11', '2019-02-14', '2019-02-18', '2019-02-21', '2019-02-25', '2019-02-25', '2019-02-25', '2019-02-25', '2019-02-25', '2019-02-25', '2019-02-28', '2019-02-28', '2019-02-28', '2019-02-28', '2019-02-28', '2019-02-28', '2019-03-04', '2019-03-07', '2019-03-11', '2019-03-14', '2019-03-18', '2019-03-21', '2019-03-25', '2019-03-28', '2019-04-01', '2019-04-04', '2019-04-08', '2019-04-08', '2019-04-08', '2019-04-08', '2019-04-08', '2019-04-08', '2019-04-11', '2019-04-11', '2019-04-11', '2019-04-11', '2019-04-11', '2019-04-11', '2019-04-15', '2019-04-18', '2019-04-22', '2019-04-25', '2019-04-29', '2019-05-02', '2019-05-06', '2019-05-09', '2019-05-13', '2019-05-16', '2019-05-20', '2019-05-23', '2019-05-27', '2019-05-30', '2019-06-03', '2019-06-06', '2019-06-10', '2019-06-13', '2019-06-17', '2019-06-20', '2019-06-24', '2019-06-27', '2019-07-01', '2019-07-04', '2019-07-08', '2019-07-11', '2019-07-15', '2019-07-18', '2019-07-22', '2019-07-25', '2019-07-29', '2019-08-01', '2019-08-05', '2019-08-08', '2019-08-12', '2019-08-15', '2019-08-19', '2019-08-22', '2019-08-26', '2019-08-29', '2019-09-02', '2019-09-05', '2019-09-09', '2019-09-12', '2019-09-16', '2019-09-16', '2019-09-16', '2019-09-16', '2019-09-16', '2019-09-16', '2019-09-19', '2019-09-19', '2019-09-19', '2019-09-19', '2019-09-19', '2019-09-19', '2019-09-23', '2019-09-26', '2019-09-30', '2019-10-03', '2019-10-07', '2019-10-10', '2019-10-14', '2019-10-17', '2019-10-21', '2019-10-24', '2019-10-28', '2019-10-31', '2019-11-04', '2019-11-07', '2019-11-11', '2019-11-14', '2019-11-18', '2019-11-21', '2019-11-25', '2019-11-28', '2019-12-02', '2019-12-05', '2019-12-09', '2019-12-12', '2019-12-16', '2019-12-19', '2019-12-23', '2019-12-26', '2019-12-30', '2020-01-02', '2020-01-06', '2020-01-09', '2020-01-13', '2020-01-16', '2020-01-20', '2020-01-23', '2020-01-27', '2020-01-30', '2020-02-03', '2020-02-06', '2020-02-10', '2020-02-13', '2020-02-17', '2020-02-20', '2020-02-24', '2020-02-27', '2020-03-02', '2020-03-05', '2020-03-09', '2020-03-12', '2020-03-16', '2020-03-19', '2020-03-23', '2020-03-26', '2020-03-30', '2020-04-02', '2020-04-06', '2020-04-06', '2020-04-06', '2020-04-06', '2020-04-06', '2020-04-06', '2020-04-09', '2020-04-09', '2020-04-09', '2020-04-09', '2020-04-09', '2020-04-09', '2020-04-13', '2020-04-16', '2020-04-20', '2020-04-23', '2020-04-27', '2020-04-30', '2020-05-04', '2020-05-07', '2020-05-11', '2020-05-14', '2020-05-18', '2020-05-21', '2020-05-25', '2020-05-28', '2020-06-01', '2020-06-04', '2020-06-08', '2020-06-11', '2020-06-15', '2020-06-18', '2020-06-22', '2020-06-25', '2020-06-29', '2020-07-02', '2020-07-06', '2020-07-09', '2020-07-13', '2020-07-16', '2020-07-20', '2020-07-23', '2020-07-27', '2020-07-30', '2020-08-03', '2020-08-06', '2020-08-10', '2020-08-13', '2020-08-17', '2020-08-20', '2020-08-24', '2020-08-27', '2020-08-31', '2020-09-03', '2020-09-07', '2020-09-10', '2020-09-14', '2020-09-17', '2020-09-21', '2020-09-24', '2020-09-28', '2020-10-01', '2020-10-05', '2020-10-08', '2020-10-12', '2020-10-15', '2020-10-19', '2020-10-22', '2020-10-26', '2020-10-26', '2020-10-26', '2020-10-26', '2020-10-29', '2020-10-29', '2020-10-29', '2020-10-29', '2020-11-02', '2020-11-05', '2020-11-09', '2020-11-12', '2020-11-16', '2020-11-19', '2020-11-23', '2020-11-26', '2020-11-30', '2020-12-03', '2020-12-07', '2020-12-10', '2020-12-14', '2020-12-17', '2020-12-21', '2020-12-24', '2020-12-28', '2020-12-31', '2021-01-04', '2021-01-07', '2021-01-11', '2021-01-14', '2021-01-18', '2021-01-21', '2021-01-25', '2021-01-28', '2021-02-01', '2021-02-04', '2021-02-08', '2021-02-11', '2021-02-15', '2021-02-18', '2021-02-22', '2021-02-25', '2021-03-01', '2021-03-04', '2021-03-08', '2021-03-11', '2021-03-15', '2021-03-18', '2021-03-22', '2021-03-25', '2021-03-29', '2021-04-01', '2021-04-05', '2021-04-08', '2021-04-12', '2021-04-15', '2021-04-19', '2021-04-22', '2021-04-26', '2021-04-29', '2021-05-03', '2021-05-06', '2021-05-10', '2021-05-13', '2021-05-17', '2021-05-20', '2021-05-24', '2021-05-27', '2021-05-31', '2021-06-03', '2021-06-07', '2021-06-10', '2021-06-14', '2021-06-14', '2021-06-14', '2021-06-14', '2021-06-17', '2021-06-17', '2021-06-17', '2021-06-17', '2021-06-21', '2021-06-24', '2021-06-28', '2021-07-01', '2021-07-05', '2021-07-08', '2021-07-12', '2021-07-15', '2021-07-19', '2021-07-22', '2021-07-26', '2021-07-29', '2021-08-02', '2021-08-05', '2021-08-09', '2021-08-12', '2021-08-16', '2021-08-19', '2021-08-23', '2021-08-26', '2021-08-30', '2021-09-02', '2021-09-06', '2021-09-09', '2021-09-13', '2021-09-16', '2021-09-20', '2021-09-23', '2021-09-27', '2021-09-30', '2021-10-04', '2021-10-07', '2021-10-11', '2021-10-14', '2021-10-18', '2021-10-21', '2021-10-25', '2021-10-25', '2021-10-25', '2021-10-25', '2021-10-28', '2021-10-28', '2021-10-28', '2021-10-28', '2021-11-01', '2021-11-04', '2021-11-08', '2021-11-11', '2021-11-15', '2021-11-18', '2021-11-22', '2021-11-25', '2021-11-29', '2021-12-02', '2021-12-06', '2021-12-09', '2021-12-13', '2021-12-16', '2021-12-20', '2021-12-23', '2021-12-27', '2021-12-30', '2022-01-03', '2022-01-06', '2022-01-10', '2022-01-13', '2022-01-17', '2022-01-17', '2022-01-17', '2022-01-17', '2022-01-20', '2022-01-20', '2022-01-20', '2022-01-20', '2022-01-24', '2022-01-27', '2022-01-31', '2022-02-03', '2022-02-07', '2022-02-10', '2022-02-14', '2022-02-17', '2022-02-21', '2022-02-24', '2022-02-28', '2022-03-03', '2022-03-07', '2022-03-10', '2022-03-14', '2022-03-17', '2022-03-21', '2022-03-24', '2022-03-28', '2022-03-31', '2022-04-04', '2022-04-07', '2022-04-11', '2022-04-14', '2022-04-18', '2022-04-21', '2022-04-25', '2022-04-28', '2022-05-02', '2022-05-05', '2022-05-09', '2022-05-12', '2022-05-16', '2022-05-19', '2022-05-23', '2022-05-26', '2022-05-30', '2022-06-02', '2022-06-06', '2022-06-09', '2022-06-13', '2022-06-16', '2022-06-16', '2022-06-16', '2022-06-16', '2022-06-20', '2022-06-20', '2022-06-20', '2022-06-20', '2022-06-23', '2022-06-27', '2022-06-30', '2022-07-04', '2022-07-07', '2022-07-11', '2022-07-14', '2022-07-18', '2022-07-21', '2022-07-25', '2022-07-28', '2022-08-01', '2022-08-04', '2022-08-08', '2022-08-11', '2022-08-15', '2022-08-18', '2022-08-22', '2022-08-25', '2022-08-25', '2022-08-25', '2022-08-25', '2022-08-29', '2022-08-29', '2022-08-29', '2022-08-29', '2022-09-01', '2022-09-05', '2022-09-08', '2022-09-12', '2022-09-15', '2022-09-19', '2022-09-22', '2022-09-26', '2022-09-29', '2022-10-03', '2022-10-06', '2022-10-10', '2022-10-13', '2022-10-17', '2022-10-20', '2022-10-24', '2022-10-27', '2022-10-31', '2022-11-03', '2022-11-07', '2022-11-10', '2022-11-14', '2022-11-17', '2022-11-21', '2022-11-24', '2022-11-28', '2022-12-01', '2022-12-05', '2022-12-08', '2022-12-12', '2022-12-15', '2022-12-19', '2022-12-22', '2022-12-26', '2022-12-29', '2023-01-02', '2023-01-05', '2023-01-09', '2023-01-12', '2023-01-16', '2023-01-16', '2023-01-16', '2023-01-16', '2023-01-19', '2023-01-19', '2023-01-19', '2023-01-19', '2023-01-23', '2023-01-26', '2023-01-30', '2023-02-02', '2023-02-06', '2023-02-09', '2023-02-13', '2023-02-16', '2023-02-20', '2023-02-23', '2023-02-27', '2023-03-02', '2023-03-06', '2023-03-09', '2023-03-13', '2023-03-16', '2023-03-20', '2023-03-23', '2023-03-27', '2023-03-30', '2023-04-03', '2023-04-06', '2023-04-10', '2023-04-13', '2023-04-17', '2023-04-20', '2023-04-24', '2023-04-27', '2023-05-01', '2023-05-04', '2023-05-08', '2023-05-11', '2023-05-15', '2023-05-18', '2023-05-22', '2023-05-25', '2023-05-29', '2023-06-01', '2023-06-05', '2023-06-08', '2023-06-12', '2023-06-15', '2023-06-15', '2023-06-15', '2023-06-15', '2023-06-19', '2023-06-19', '2023-06-19', '2023-06-19', '2023-06-22', '2023-06-26', '2023-06-29', '2023-07-03', '2023-07-06', '2023-07-10', '2023-07-13', '2023-07-17', '2023-07-20', '2023-07-24', '2023-07-27', '2023-07-31', '2023-08-03', '2023-08-07', '2023-08-10', '2023-08-14', '2023-08-17', '2023-08-21', '2023-08-24', '2023-08-28', '2023-08-31', '2023-09-04', '2023-09-07', '2023-09-11', '2023-09-14', '2023-09-18', '2023-09-21', '2023-09-25', '2023-09-28', '2023-10-02', '2023-10-05', '2023-10-09', '2023-10-12', '2023-10-16', '2023-10-19', '2023-10-23', '2023-10-26', '2023-10-26', '2023-10-26', '2023-10-26', '2023-10-30', '2023-10-30', '2023-10-30', '2023-10-30', '2023-11-02', '2023-11-06', '2023-11-09', '2023-11-13', '2023-11-16', '2023-11-20', '2023-11-23', '2023-11-27', '2023-11-30', '2023-12-04', '2023-12-07', '2023-12-11', '2023-12-14', '2023-12-18', '2023-12-21', '2023-12-25', '2023-12-28', '2024-01-01', '2024-01-04', '2024-01-08']\n"
          ]
        }
      ],
      "source": [
        "trial = df['Date'].tolist()\n",
        "print(trial)"
      ]
    },
    {
      "cell_type": "code",
      "execution_count": null,
      "metadata": {
        "id": "CHjkvUOaabDi"
      },
      "outputs": [],
      "source": [
        "column_titles = ['Date','Draw',\t'Winners',\t'Prize',\t'Breakdown']\n",
        "Structure = []\n",
        "column1 = []\n",
        "column2 = []\n",
        "column3 = []\n",
        "p =[]\n",
        "\n",
        "for date in trial:\n",
        "  url = 'https://sasklotteries.ca/games/daily-grand/?date='+date+'#game-date-section'\n",
        "  html_data = requests.get(url).text\n",
        "  soup = BeautifulSoup(html_data, 'html.parser')\n",
        "  tables = soup.find_all('table')\n",
        "  for table in tables[2:3]:\n",
        "    row_data = table.find_all('td')\n",
        "    roww = [data.text.strip() for data in row_data]\n",
        "  for i in range(0, len(roww), 3):\n",
        "    column1.append(roww[i])\n",
        "    column2.append(roww[i + 1])\n",
        "    column3.append(roww[i + 2])\n",
        "  p.append(date)\n",
        "  data = {'Draw': column1, 'Winners': column2, 'Prize': column3}\n",
        "  time.sleep(0.5)\n",
        "df = pd.DataFrame(data)\n",
        "\n",
        "# Repeat each date eight times\n",
        "dates = [date for date in trial for _ in range(9)]\n",
        "\n",
        "# Create a DataFrame with the 'Date' column\n",
        "gg = pd.DataFrame()\n",
        "gg['Date'] = dates\n",
        "bb = pd.merge(gg,df,left_index=True,right_index=True)\n",
        "\n",
        "bb['Winners'] = bb['Winners'].astype(str)\n",
        "bb['Winners'] = bb['Winners'].str.replace('[^\\d]', '', regex=True)\n",
        "bb['Winners'] = bb['Winners'].astype(int)\n",
        "\n",
        "bb.to_csv('/content/drive/MyDrive/A Python Learning/DailyGrandPrize.csv',index=False)"
      ]
    },
    {
      "cell_type": "code",
      "execution_count": null,
      "metadata": {
        "colab": {
          "base_uri": "https://localhost:8080/",
          "height": 228
        },
        "id": "msL7p3XDrlir",
        "outputId": "5fd63e2c-e091-47e4-b8e8-8f0d1b6df9e5"
      },
      "outputs": [
        {
          "output_type": "error",
          "ename": "NameError",
          "evalue": "name 'bb' is not defined",
          "traceback": [
            "\u001b[0;31m---------------------------------------------------------------------------\u001b[0m",
            "\u001b[0;31mNameError\u001b[0m                                 Traceback (most recent call last)",
            "\u001b[0;32m<ipython-input-1-e6c45ea057ef>\u001b[0m in \u001b[0;36m<cell line: 1>\u001b[0;34m()\u001b[0m\n\u001b[0;32m----> 1\u001b[0;31m \u001b[0mbb\u001b[0m\u001b[0;34m[\u001b[0m\u001b[0;34m'Winners'\u001b[0m\u001b[0;34m]\u001b[0m \u001b[0;34m=\u001b[0m \u001b[0mbb\u001b[0m\u001b[0;34m[\u001b[0m\u001b[0;34m'Winners'\u001b[0m\u001b[0;34m]\u001b[0m\u001b[0;34m.\u001b[0m\u001b[0mastype\u001b[0m\u001b[0;34m(\u001b[0m\u001b[0mstr\u001b[0m\u001b[0;34m)\u001b[0m\u001b[0;34m\u001b[0m\u001b[0;34m\u001b[0m\u001b[0m\n\u001b[0m\u001b[1;32m      2\u001b[0m \u001b[0mbb\u001b[0m\u001b[0;34m[\u001b[0m\u001b[0;34m'Winners'\u001b[0m\u001b[0;34m]\u001b[0m \u001b[0;34m=\u001b[0m \u001b[0mbb\u001b[0m\u001b[0;34m[\u001b[0m\u001b[0;34m'Winners'\u001b[0m\u001b[0;34m]\u001b[0m\u001b[0;34m.\u001b[0m\u001b[0mstr\u001b[0m\u001b[0;34m.\u001b[0m\u001b[0mreplace\u001b[0m\u001b[0;34m(\u001b[0m\u001b[0;34m'[^\\d]'\u001b[0m\u001b[0;34m,\u001b[0m \u001b[0;34m''\u001b[0m\u001b[0;34m,\u001b[0m \u001b[0mregex\u001b[0m\u001b[0;34m=\u001b[0m\u001b[0;32mTrue\u001b[0m\u001b[0;34m)\u001b[0m\u001b[0;34m\u001b[0m\u001b[0;34m\u001b[0m\u001b[0m\n\u001b[1;32m      3\u001b[0m \u001b[0mbb\u001b[0m\u001b[0;34m[\u001b[0m\u001b[0;34m'Winners'\u001b[0m\u001b[0;34m]\u001b[0m \u001b[0;34m=\u001b[0m \u001b[0mbb\u001b[0m\u001b[0;34m[\u001b[0m\u001b[0;34m'Winners'\u001b[0m\u001b[0;34m]\u001b[0m\u001b[0;34m.\u001b[0m\u001b[0mastype\u001b[0m\u001b[0;34m(\u001b[0m\u001b[0mint\u001b[0m\u001b[0;34m)\u001b[0m\u001b[0;34m\u001b[0m\u001b[0;34m\u001b[0m\u001b[0m\n\u001b[1;32m      4\u001b[0m \u001b[0mbb\u001b[0m\u001b[0;34m.\u001b[0m\u001b[0mtail\u001b[0m\u001b[0;34m(\u001b[0m\u001b[0;34m)\u001b[0m\u001b[0;34m\u001b[0m\u001b[0;34m\u001b[0m\u001b[0m\n",
            "\u001b[0;31mNameError\u001b[0m: name 'bb' is not defined"
          ]
        }
      ],
      "source": [
        "bb['Winners'] = bb['Winners'].astype(str)\n",
        "bb['Winners'] = bb['Winners'].str.replace('[^\\d]', '', regex=True)\n",
        "bb['Winners'] = bb['Winners'].astype(int)\n",
        "bb.tail()"
      ]
    },
    {
      "cell_type": "code",
      "execution_count": null,
      "metadata": {
        "colab": {
          "base_uri": "https://localhost:8080/",
          "height": 141
        },
        "id": "nbjEGFDDxRj_",
        "outputId": "cfbcec38-e8cc-4dbd-db47-795d4754f970"
      },
      "outputs": [
        {
          "output_type": "error",
          "ename": "IndentationError",
          "evalue": "unexpected indent (<ipython-input-9-5cb55c31afbc>, line 2)",
          "traceback": [
            "\u001b[0;36m  File \u001b[0;32m\"<ipython-input-9-5cb55c31afbc>\"\u001b[0;36m, line \u001b[0;32m2\u001b[0m\n\u001b[0;31m    for i in columns[1:]:\u001b[0m\n\u001b[0m    ^\u001b[0m\n\u001b[0;31mIndentationError\u001b[0m\u001b[0;31m:\u001b[0m unexpected indent\n"
          ]
        }
      ],
      "source": [
        "columns = tables.find_all('tr')\n",
        "    for i in columns[1:]:\n",
        "      row_data = i.find_all('td')\n",
        "      roww = [data.text.strip() for data in row_data]\n",
        "      Draw = roww[0]\n",
        "      Winners = roww[1]\n",
        "      Prize = roww[2]\n",
        "      Breakdown = roww[3]\n",
        "      p = date\n",
        "      Structure.append([p,Draw,Winners,Prize,Breakdown])\n",
        "      time.sleep(0.5)\n",
        "    cd = pd.DataFrame(Structure, columns=[column_titles])"
      ]
    },
    {
      "cell_type": "code",
      "execution_count": null,
      "metadata": {
        "id": "U8i2dcAkxEu4"
      },
      "outputs": [],
      "source": []
    },
    {
      "cell_type": "code",
      "execution_count": null,
      "metadata": {
        "id": "Ldki5KiR1oCz"
      },
      "outputs": [],
      "source": [
        "cd.head(100)"
      ]
    },
    {
      "cell_type": "code",
      "execution_count": null,
      "metadata": {
        "id": "jxlHNe-zwbsb"
      },
      "outputs": [],
      "source": [
        "column_titles = ['Date','Category',\t'Numbers']\n",
        "Structure = []\n",
        "trial = ['2024-01-11']\n",
        "for date in trial:\n",
        "    url = 'https://www.lotterycanada.com/daily-grand/1'+date\n",
        "    html_data = requests.get(url).text\n",
        "    soup = BeautifulSoup(html_data, 'html.parser')\n",
        "    alltables = soup.find_all('table',{'class':'table table-striped table-condensed'})\n",
        "    tables = alltables[1]\n",
        "    columns = tables.find_all('tr')\n",
        "    for i in columns:\n",
        "      row_data = i.find_all('td')\n",
        "      roww = [data.text.strip() for data in row_data]\n",
        "      Category = roww[0]\n",
        "      Numbers = roww[1]\n",
        "      p = date\n",
        "      Structure.append([p,Category,Numbers])\n",
        "      gg = pd.DataFrame(Structure, columns=[column_titles])"
      ]
    },
    {
      "cell_type": "code",
      "execution_count": null,
      "metadata": {
        "id": "wAiUMZQm1yvZ"
      },
      "outputs": [],
      "source": [
        "gg.head(10)"
      ]
    },
    {
      "cell_type": "code",
      "execution_count": null,
      "metadata": {
        "id": "qLpjdJk8wC_t"
      },
      "outputs": [],
      "source": [
        "cd.head(100)"
      ]
    },
    {
      "cell_type": "code",
      "execution_count": null,
      "metadata": {
        "id": "JHBPhrhnEW-J"
      },
      "outputs": [],
      "source": [
        "cd.to_csv('/content/drive/MyDrive/A Python Learning/DailyGrandBreakdown.csv',index=False)"
      ]
    }
  ],
  "metadata": {
    "colab": {
      "provenance": []
    },
    "kernelspec": {
      "display_name": "Python 3",
      "name": "python3"
    },
    "language_info": {
      "name": "python"
    }
  },
  "nbformat": 4,
  "nbformat_minor": 0
}